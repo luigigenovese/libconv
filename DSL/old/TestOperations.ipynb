{
 "cells": [
  {
   "cell_type": "code",
   "execution_count": null,
   "metadata": {
    "collapsed": false
   },
   "outputs": [],
   "source": [
    "require '../boast/LibconvBase.rb'"
   ]
  },
  {
   "cell_type": "code",
   "execution_count": null,
   "metadata": {
    "collapsed": false
   },
   "outputs": [],
   "source": [
    "ndims=NArray.int(3)\n",
    "ndims[0]=62\n",
    "ndims[1]=66\n",
    "ndims[2]=65\n",
    "ndimsmf=NArray.int(3)\n",
    "ndimsmf=2*ndims\n",
    "\n",
    "scal=NArray.float(3)\n",
    "hgrid = NArray.float(3)\n",
    "hgrid[0] = 0.5\n",
    "hgrid[1] = 0.6\n",
    "hgrid[2] = 0.7\n",
    "(0..2).each{ |ind| scal[ind] = -0.5 / (hgrid[ind]*hgrid[ind])   }"
   ]
  },
  {
   "cell_type": "code",
   "execution_count": null,
   "metadata": {
    "collapsed": false
   },
   "outputs": [],
   "source": [
    "input_s1   = dataspace( 2*ndims,random=true)\n",
    "data_p = dataspace(2*ndims)\n",
    "work_p = dataspace(2*ndims) #may work well in s1,s0,r\n",
    "data2_p = dataspace(2*ndims)\n",
    "5"
   ]
  },
  {
   "cell_type": "code",
   "execution_count": null,
   "metadata": {
    "collapsed": false
   },
   "outputs": [],
   "source": [
    "dwt=generate_dwt()\n",
    "iwt=generate_iwt()\n",
    "mf=generate_mf()\n",
    "imf=generate_imf()\n",
    "s1r=generate_s1tor()\n",
    "rs1=generate_rtos1()"
   ]
  },
  {
   "cell_type": "code",
   "execution_count": null,
   "metadata": {
    "collapsed": true
   },
   "outputs": [],
   "source": [
    "  suffix = \".c\" if BOAST::get_lang == BOAST::C\n",
    "  suffix = \".f90\" if BOAST::get_lang == BOAST::FORTRAN\n",
    "  File::open(\"poisson#{suffix}\",\"w\") { |f|\n",
    "    f.puts k2\n",
    "    f.puts k3\n",
    "    f.puts k4\n",
    "    f.puts k5\n",
    "    f.puts k6\n",
    "    f.puts k7\n",
    "  }\n"
   ]
  },
  {
   "cell_type": "code",
   "execution_count": null,
   "metadata": {
    "collapsed": false,
    "scrolled": true
   },
   "outputs": [],
   "source": [
    "puts dwt.kernel.procedure.name"
   ]
  },
  {
   "cell_type": "code",
   "execution_count": null,
   "metadata": {
    "collapsed": false,
    "scrolled": true
   },
   "outputs": [],
   "source": [
    "#rs1f=generate_rtos1(nil,periodic=false)"
   ]
  },
  {
   "cell_type": "code",
   "execution_count": null,
   "metadata": {
    "collapsed": false
   },
   "outputs": [],
   "source": [
    "iwt.run(0, ndims, BC::PERIODIC, input_s1, work_p, 1.0,0.0)\n",
    "dwt.run(0, ndims, BC::PERIODIC, work_p, data_p, 1.0,0.0)"
   ]
  },
  {
   "cell_type": "code",
   "execution_count": null,
   "metadata": {
    "collapsed": false,
    "scrolled": true
   },
   "outputs": [],
   "source": [
    "allclose(input_s1,data_p)"
   ]
  },
  {
   "cell_type": "code",
   "execution_count": null,
   "metadata": {
    "collapsed": false
   },
   "outputs": [],
   "source": [
    "iwt.run(0, ndims, BC::PERIODIC, input_s1, work_p, 1.0,0.0)\n",
    "mf.run(0, ndimsmf, BC::PERIODIC, work_p, data_p, 1.0,0.0,0.0)\n",
    "s1r.run(0, ndims, BC::PERIODIC, input_s1, data2_p, 1.0,0.0)"
   ]
  },
  {
   "cell_type": "code",
   "execution_count": null,
   "metadata": {
    "collapsed": false
   },
   "outputs": [],
   "source": [
    "allclose(data2_p,data_p)"
   ]
  },
  {
   "cell_type": "code",
   "execution_count": null,
   "metadata": {
    "collapsed": false
   },
   "outputs": [],
   "source": [
    "imf.run(0, ndimsmf, BC::PERIODIC, input_s1, work_p, 1.0,0.0,0.0)\n",
    "dwt.run(0, ndims, BC::PERIODIC, work_p, data_p, 1.0,0.0)\n",
    "rs1.run(0, ndims, BC::PERIODIC, input_s1, data2_p, 1.0,0.0)"
   ]
  },
  {
   "cell_type": "code",
   "execution_count": null,
   "metadata": {
    "collapsed": false
   },
   "outputs": [],
   "source": [
    "allclose(data2_p,data_p)"
   ]
  },
  {
   "cell_type": "code",
   "execution_count": null,
   "metadata": {
    "collapsed": false
   },
   "outputs": [],
   "source": [
    "ndims0=get_ld(0,ndims,BC::GROW,:iwt)\n",
    "ndimsr=get_ld(0,2*ndims0,BC::GROW,:mf)\n",
    "ndimsr1=2*get_ld(0,ndims,BC::GROW,:s1tor)\n",
    "5"
   ]
  },
  {
   "cell_type": "code",
   "execution_count": null,
   "metadata": {
    "collapsed": false,
    "scrolled": true
   },
   "outputs": [],
   "source": [
    "data_s0=dataspace(2*ndims0)\n",
    "data_sr=dataspace(ndimsr)\n",
    "data_sr1=dataspace(ndimsr1)\n",
    "5"
   ]
  },
  {
   "cell_type": "code",
   "execution_count": null,
   "metadata": {
    "collapsed": false
   },
   "outputs": [],
   "source": [
    "iwt.run(0, ndims, BC::GROW, input_s1, data_s0, 1.0,0.0)\n",
    "mf.run(0, 2*ndims0, BC::GROW, data_s0, data_sr, 1.0,0.0,0.0)"
   ]
  },
  {
   "cell_type": "code",
   "execution_count": null,
   "metadata": {
    "collapsed": false
   },
   "outputs": [],
   "source": [
    "s1r.run(0, ndims, BC::GROW, input_s1, data_sr1, 1.0,0.0)"
   ]
  },
  {
   "cell_type": "code",
   "execution_count": null,
   "metadata": {
    "collapsed": false
   },
   "outputs": [],
   "source": [
    "#combine operations and verify result\n",
    "p data_sr1[0..5,1,0]\n",
    "p data_sr[0..5,1,0]\n",
    "p data_sr1[-1,0,0]\n",
    "5"
   ]
  },
  {
   "cell_type": "code",
   "execution_count": null,
   "metadata": {
    "collapsed": false
   },
   "outputs": [],
   "source": [
    "imf.run(0,2*ndims0,BC::SHRINK,data_sr,data_s0,1.0,0.0,0.0)\n",
    "dwt.run(0,ndims,BC::SHRINK,data_s0,data_p,1.0,0.0)"
   ]
  },
  {
   "cell_type": "code",
   "execution_count": null,
   "metadata": {
    "collapsed": false
   },
   "outputs": [],
   "source": [
    "rs1.run(0,ndims,BC::SHRINK,data_sr1,data2_p,1.0,0.0)"
   ]
  },
  {
   "cell_type": "code",
   "execution_count": null,
   "metadata": {
    "collapsed": false
   },
   "outputs": [],
   "source": [
    "allclose(data_p,data2_p)"
   ]
  },
  {
   "cell_type": "code",
   "execution_count": null,
   "metadata": {
    "collapsed": false
   },
   "outputs": [],
   "source": [
    "#example of conversion from reals space into a multi-resolution\n",
    "psi=Wavefunction::new(ndims,:r)\n",
    "out=psi.rs1()\n",
    "#take only the scaling function coefficients\n",
    "out.select_s0()\n"
   ]
  },
  {
   "cell_type": "code",
   "execution_count": null,
   "metadata": {
    "collapsed": true
   },
   "outputs": [],
   "source": [
    "class DataSpace\n",
    "  attr_reader :ndim\n",
    "  attr_reader :ld\n",
    "  def initialize(ndim,space) #bc=BC::PERIODIC,random=false,fill=nil)\n",
    "    @ndim=[ndim].flatten\n",
    "    @ld=options\n",
    "  end\n",
    "end"
   ]
  },
  {
   "cell_type": "code",
   "execution_count": null,
   "metadata": {
    "collapsed": true
   },
   "outputs": [],
   "source": [
    "module S1\n",
    "  @s1s0=generate_dwt()\n",
    "  @s1r=generate_s1tor()\n",
    "  def self.s1s0\n",
    "    return @s1s0\n",
    "  end\n",
    "  def self.s1r\n",
    "    return @s1r\n",
    "  end\n",
    "  def s1s0(idim,options={})\n",
    "    output=options.fetch(:output,nil)\n",
    "    ldin=S1::s1s0.in_lds(@system.ndims[idim],@lds,@system.bc[idim])\n",
    "    ldout=S1::s1s0.out_lds(@system.ndims[idim],@lds,@system.bc[idim])\n",
    "    if not output then\n",
    "      spaces=@spaces.dup\n",
    "      spaces[idim]= :s0\n",
    "      data=dataspace(2*lds)\n",
    "      output=Wavefunction::new(@system,spaces: spaces, dataspace: data)\n",
    "    else\n",
    "      #here all the checks\n",
    "      #ld of the input\n",
    "      assert_compatibility_between 2*ldin, @lds\n",
    "      #ld of the output\n",
    "      assert_compatibility_between 2*ldout, output.lds\n",
    "        #ld of the output a\n",
    "    end\n",
    "    S1::s1s0.run(idim,@ndims,@bc[idim], @dataspace, output, 1.0,0.0)\n",
    "  end\n",
    "    def assert_compatibility_between(lds,wfnlds)\n",
    "    if lds.zip(wfnlds).any? {|e| e[0]>e[1] or wfnlds.odd?} then\n",
    "      raise \"Incompatible dimensions #{lds.join(',')}: #{wfnlds.join(',')}\"\n",
    "    end   \n",
    "  end\n",
    "end\n",
    "  "
   ]
  },
  {
   "cell_type": "code",
   "execution_count": null,
   "metadata": {
    "collapsed": true
   },
   "outputs": [],
   "source": []
  },
  {
   "cell_type": "code",
   "execution_count": null,
   "metadata": {
    "collapsed": true
   },
   "outputs": [],
   "source": [
    "class System\n",
    "  attr_reader :reference_space\n",
    "  attr_reader :reference_dimensions\n",
    "  attr_reader :boundary_conditions\n",
    "  attr_reader :grow_direction\n",
    "  def initialize(ndims,reference_space,bc,options={})\n",
    "    @reference_dimensions=ndims\n",
    "    @reference_space=reference_space\n",
    "    @boundary_conditions=bc\n",
    "    @grow_direction=options.fetch(:grow_direction,:s1s0r)    \n",
    "  end\n",
    "  \n",
    "  def minimum_buffer_size(idim,op)\n",
    "    return get_ld(idim,@ndims,@bc,op)\n",
    "  end\n",
    "end"
   ]
  },
  {
   "cell_type": "code",
   "execution_count": null,
   "metadata": {
    "collapsed": false
   },
   "outputs": [],
   "source": [
    "class Wavefunction\n",
    "  attr_accessor :dataspace\n",
    "  attr_reader :system\n",
    "  attr_reader :present_spaces\n",
    "  attr_reader :lds\n",
    "  def initialize(system,options={})\n",
    "    @system=system\n",
    "    @present_spaces=options.fetch(:spaces,[system.reference_space]*ndims.length)\n",
    "    @dataspace=options.fetch(:dataspace,nil)\n",
    "    @lds=options.fetch(:lds,@dataspace ? @dataspace.shape : nil)\n",
    "  end\n",
    "end"
   ]
  },
  {
   "cell_type": "code",
   "execution_count": null,
   "metadata": {
    "collapsed": false
   },
   "outputs": [],
   "source": [
    "V3=System::new(ndims,reference_space= :s1)\n",
    "psi=dataspace(ld=V3.ld*2^4)\n",
    "V0=System::new(ndims,reference_space= :r,bc:free, tr = Transition::new(:r, :s1, :shrink ))\n",
    "psi0r=Wavefunction::new(system=V0, :r)\n",
    "\n",
    "#V1=V0.transformed_system(:s1)\n",
    "#V1=System::new(ndims/2,reference_space= :s1,bc:free, Transition::new(:s1, :r, :grow ))\n",
    "#psis1 = Wavefunction::new(system=V1) \n",
    "\n",
    "psi0s1 = Wavefunction::new(system=V0, :s1)\n",
    "psi0s1 = psi0s0.rs1(:output => psi0s1)\n",
    "V1 System::new(psi1.dim/2,  reference_space= :s0, tr )\n",
    "psi1s0 = Wavefunction::new(system=V1)\n",
    "psi1s1 = Wavefunction::new(system=V1, :s1)\n",
    "psi1s1 = psi1s0.s0s1(output => psi1s1)\n",
    "\n",
    "\n"
   ]
  },
  {
   "cell_type": "code",
   "execution_count": null,
   "metadata": {
    "collapsed": false
   },
   "outputs": [],
   "source": [
    "block = lambda{\n",
    "  V0=System::new(ndims,reference_space= :r,bc:free, tr = Transition::new(:r, :s1, :shrink ))\n",
    "  psi=Wavfunction::new(V0,fill=>)\n",
    "  phi=psi.rs1\n",
    "  3.repeat {\n",
    "    phi.select_s0!\n",
    "    tmp=phi.s0s1\n",
    "    phi=tmp\n",
    "    #alternative solution for the implementation\n",
    "    phi << phi.s0s1(grow=true)\n",
    "    }\n",
    "  #3.repeat{phi.extend_s1!}\n",
    "  }\n",
    "block.call\n",
    "  \n",
    "block.verbatim\n",
    "BigDFTV=phi.system\n",
    "\n"
   ]
  },
  {
   "cell_type": "code",
   "execution_count": null,
   "metadata": {
    "collapsed": false
   },
   "outputs": [],
   "source": [
    "h= lambda {puts :s1}\n",
    "puts h.class\n",
    "a = [1,2,5]\n",
    "str = a.collect { |e| e.to_s }"
   ]
  },
  {
   "cell_type": "code",
   "execution_count": null,
   "metadata": {
    "collapsed": false
   },
   "outputs": [],
   "source": [
    "psis=4.times.collect {Wfn::new()}"
   ]
  },
  {
   "cell_type": "code",
   "execution_count": null,
   "metadata": {
    "collapsed": false
   },
   "outputs": [],
   "source": [
    "psis.each(&:hamapp)"
   ]
  },
  {
   "cell_type": "code",
   "execution_count": null,
   "metadata": {
    "collapsed": false
   },
   "outputs": [],
   "source": []
  },
  {
   "cell_type": "code",
   "execution_count": null,
   "metadata": {
    "collapsed": false
   },
   "outputs": [],
   "source": []
  },
  {
   "cell_type": "code",
   "execution_count": null,
   "metadata": {
    "collapsed": true
   },
   "outputs": [],
   "source": []
  }
 ],
 "metadata": {
  "kernelspec": {
   "display_name": "Ruby 2.2.5",
   "language": "ruby",
   "name": "ruby"
  },
  "language_info": {
   "file_extension": ".rb",
   "mimetype": "application/x-ruby",
   "name": "ruby",
   "version": "2.2.5"
  }
 },
 "nbformat": 4,
 "nbformat_minor": 1
}
